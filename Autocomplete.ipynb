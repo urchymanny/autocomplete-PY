{
  "nbformat": 4,
  "nbformat_minor": 0,
  "metadata": {
    "colab": {
      "provenance": [],
      "authorship_tag": "ABX9TyNOKhsUVe5Y3DyzyMCfLICY",
      "include_colab_link": true
    },
    "kernelspec": {
      "name": "python3",
      "display_name": "Python 3"
    },
    "language_info": {
      "name": "python"
    }
  },
  "cells": [
    {
      "cell_type": "markdown",
      "metadata": {
        "id": "view-in-github",
        "colab_type": "text"
      },
      "source": [
        "<a href=\"https://colab.research.google.com/github/urchymanny/autocomplete-PY/blob/main/Autocomplete.ipynb\" target=\"_parent\"><img src=\"https://colab.research.google.com/assets/colab-badge.svg\" alt=\"Open In Colab\"/></a>"
      ]
    },
    {
      "cell_type": "code",
      "source": [
        "import nltk\n",
        "nltk.download('words')\n",
        "from nltk.corpus import words\n",
        "\n",
        "english_words = sorted(set(words.words()))"
      ],
      "metadata": {
        "colab": {
          "base_uri": "https://localhost:8080/"
        },
        "id": "6qsk6-nBDf73",
        "outputId": "434f83e1-1400-4142-8013-56e4b306ce38"
      },
      "execution_count": 239,
      "outputs": [
        {
          "output_type": "stream",
          "name": "stderr",
          "text": [
            "[nltk_data] Downloading package words to /root/nltk_data...\n",
            "[nltk_data]   Package words is already up-to-date!\n"
          ]
        }
      ]
    },
    {
      "cell_type": "code",
      "source": [
        "def isSubset(word, query):\n",
        "    n = len(query)\n",
        "    m = len(word)\n",
        "    c = w = 0 #counter\n",
        "    for i in query:\n",
        "      while w < m:\n",
        "        # print(i, word[w], i == word[w])\n",
        "        if i == word[w]:\n",
        "          c += 1\n",
        "          break\n",
        "        w += 1\n",
        "\n",
        "      w = 0 #word index\n",
        "\n",
        "    if c == n:\n",
        "      return True\n",
        "\n",
        "    return False"
      ],
      "metadata": {
        "id": "JsfoF-F8f4tR"
      },
      "execution_count": 240,
      "outputs": []
    },
    {
      "cell_type": "code",
      "source": [
        "def isStrict(word, query):\n",
        "  matches = []\n",
        "  c = 0\n",
        "  start_index = word.index(query[0])\n",
        "  indexes = [i for i, x in enumerate(word) if x == query[0]]\n",
        "\n",
        "  for index in indexes:\n",
        "    while c < len(query) and index < len(word):\n",
        "      # print(index, query[c], word[index], word[index] == query[c])\n",
        "      if word[index] == query[c]:\n",
        "        matches.append(word[index] == query[c])\n",
        "        index += 1\n",
        "      else:\n",
        "        c = 0\n",
        "        matches = []\n",
        "        break\n",
        "\n",
        "      c += 1\n",
        "      start_index += 1\n",
        "\n",
        "  return len(matches) == len(query)"
      ],
      "metadata": {
        "id": "s2ve_ffwjq6-"
      },
      "execution_count": 241,
      "outputs": []
    },
    {
      "cell_type": "code",
      "source": [
        "def isSequential(word, query):\n",
        "    i, j = 0, 0  # Pointers for query and word\n",
        "\n",
        "    while i < len(query) and j < len(word):\n",
        "      # print(\"Query:\",i, query[i])\n",
        "      # print(\"Word:\",j, word[j])\n",
        "      # print(query[i] == word[j])\n",
        "      if query[i] == word[j]:\n",
        "          i += 1\n",
        "      j += 1\n",
        "\n",
        "    sequential = i == len(query)\n",
        "    strict = False\n",
        "\n",
        "    if sequential:\n",
        "      strict = isStrict(word, query)\n",
        "\n",
        "    return [sequential, strict]"
      ],
      "metadata": {
        "id": "INeRLA9HtBcD"
      },
      "execution_count": 242,
      "outputs": []
    },
    {
      "cell_type": "code",
      "source": [
        "def starts_with(word, query):\n",
        "  word = \"\".join(word)\n",
        "  query = \"\".join(query)\n",
        "\n",
        "  if word.startswith(query):\n",
        "    return True\n",
        "\n",
        "  return False"
      ],
      "metadata": {
        "id": "t6bRgnNM3ZFd"
      },
      "execution_count": 243,
      "outputs": []
    },
    {
      "cell_type": "code",
      "source": [
        "def autoComplete(query):\n",
        "  results = []\n",
        "  count = 0\n",
        "  for word in english_words:\n",
        "    word_array = list(word.lower())\n",
        "    query_array = list(query.lower().strip())\n",
        "    if isSubset(word_array, query_array):\n",
        "      sequential, strict = isSequential(word_array, query_array)\n",
        "      if sequential and strict:\n",
        "        if starts_with(word_array, query_array):\n",
        "          count += 1\n",
        "          results.append(word)\n",
        "\n",
        "  return results"
      ],
      "metadata": {
        "id": "TUc2BEA0gfmY"
      },
      "execution_count": 244,
      "outputs": []
    },
    {
      "cell_type": "code",
      "source": [
        "query = str(input(\"Enter Text to autocomplete: \"))\n",
        "\n",
        "results = autoComplete(query)\n",
        "for i in results:\n",
        "  print(i)\n",
        "print(f\"There are {len(results)} word(s) with {query} in them\")"
      ],
      "metadata": {
        "colab": {
          "base_uri": "https://localhost:8080/"
        },
        "id": "H9E3DZmAIbGM",
        "outputId": "ecd9f05c-b245-4569-fa07-2267c47b0c44"
      },
      "execution_count": 247,
      "outputs": [
        {
          "output_type": "stream",
          "name": "stdout",
          "text": [
            "Enter Text to autocomplete: evil\n",
            "evil\n",
            "evildoer\n",
            "evilhearted\n",
            "evilly\n",
            "evilmouthed\n",
            "evilness\n",
            "evilproof\n",
            "evilsayer\n",
            "evilspeaker\n",
            "evilspeaking\n",
            "evilwishing\n",
            "There are 11 word(s) with evil in them\n"
          ]
        }
      ]
    }
  ]
}